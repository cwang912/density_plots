{
 "cells": [
  {
   "cell_type": "code",
   "execution_count": 1,
   "metadata": {
    "collapsed": true
   },
   "outputs": [],
   "source": [
    "import pandas as pd\n",
    "import matplotlib.pyplot as plt\n",
    "%matplotlib inline"
   ]
  },
  {
   "cell_type": "code",
   "execution_count": 3,
   "metadata": {
    "collapsed": true
   },
   "outputs": [],
   "source": [
    "df2 = pd.read_csv('file.csv')\n",
    "df2 = df2.drop_duplicates('geoid')"
   ]
  },
  {
   "cell_type": "code",
   "execution_count": 4,
   "metadata": {
    "collapsed": false
   },
   "outputs": [
    {
     "data": {
      "text/html": [
       "<div style=\"max-height:1000px;max-width:1500px;overflow:auto;\">\n",
       "<table border=\"1\" class=\"dataframe\">\n",
       "  <thead>\n",
       "    <tr style=\"text-align: right;\">\n",
       "      <th></th>\n",
       "      <th>statefp</th>\n",
       "      <th>countyfp</th>\n",
       "      <th>tractce</th>\n",
       "      <th>geoid</th>\n",
       "      <th>name</th>\n",
       "      <th>namelsad</th>\n",
       "      <th>mtfcc</th>\n",
       "      <th>funcstat</th>\n",
       "      <th>aland</th>\n",
       "      <th>awater</th>\n",
       "      <th>intptlat</th>\n",
       "      <th>intptlon</th>\n",
       "    </tr>\n",
       "  </thead>\n",
       "  <tbody>\n",
       "    <tr>\n",
       "      <th>0</th>\n",
       "      <td> 39</td>\n",
       "      <td> 021</td>\n",
       "      <td> 010200</td>\n",
       "      <td> 39021010200</td>\n",
       "      <td>   102.0</td>\n",
       "      <td>     Census Tract 102</td>\n",
       "      <td> G5020</td>\n",
       "      <td> S</td>\n",
       "      <td> 254963980</td>\n",
       "      <td> 1528641</td>\n",
       "      <td> 40.1538168</td>\n",
       "      <td> -83.9647388</td>\n",
       "    </tr>\n",
       "    <tr>\n",
       "      <th>1</th>\n",
       "      <td> 39</td>\n",
       "      <td> 021</td>\n",
       "      <td> 010500</td>\n",
       "      <td> 39021010500</td>\n",
       "      <td>   105.0</td>\n",
       "      <td>     Census Tract 105</td>\n",
       "      <td> G5020</td>\n",
       "      <td> S</td>\n",
       "      <td>   6985049</td>\n",
       "      <td>    4584</td>\n",
       "      <td> 40.1121978</td>\n",
       "      <td> -83.7257641</td>\n",
       "    </tr>\n",
       "    <tr>\n",
       "      <th>2</th>\n",
       "      <td> 39</td>\n",
       "      <td> 021</td>\n",
       "      <td> 010400</td>\n",
       "      <td> 39021010400</td>\n",
       "      <td>   104.0</td>\n",
       "      <td>     Census Tract 104</td>\n",
       "      <td> G5020</td>\n",
       "      <td> S</td>\n",
       "      <td>  37288174</td>\n",
       "      <td>  128056</td>\n",
       "      <td> 40.1384153</td>\n",
       "      <td> -83.7873623</td>\n",
       "    </tr>\n",
       "    <tr>\n",
       "      <th>3</th>\n",
       "      <td> 39</td>\n",
       "      <td> 085</td>\n",
       "      <td> 204302</td>\n",
       "      <td> 39085204302</td>\n",
       "      <td> 2043.02</td>\n",
       "      <td> Census Tract 2043.02</td>\n",
       "      <td> G5020</td>\n",
       "      <td> S</td>\n",
       "      <td>   4108020</td>\n",
       "      <td>   11929</td>\n",
       "      <td> 41.7124067</td>\n",
       "      <td> -81.2575497</td>\n",
       "    </tr>\n",
       "    <tr>\n",
       "      <th>4</th>\n",
       "      <td> 39</td>\n",
       "      <td> 085</td>\n",
       "      <td> 206600</td>\n",
       "      <td> 39085206600</td>\n",
       "      <td>  2066.0</td>\n",
       "      <td>    Census Tract 2066</td>\n",
       "      <td> G5020</td>\n",
       "      <td> S</td>\n",
       "      <td>   2637240</td>\n",
       "      <td>       0</td>\n",
       "      <td> 41.6488658</td>\n",
       "      <td>  -81.455889</td>\n",
       "    </tr>\n",
       "  </tbody>\n",
       "</table>\n",
       "</div>"
      ],
      "text/plain": [
       "  statefp countyfp tractce        geoid     name              namelsad  mtfcc  \\\n",
       "0      39      021  010200  39021010200    102.0      Census Tract 102  G5020   \n",
       "1      39      021  010500  39021010500    105.0      Census Tract 105  G5020   \n",
       "2      39      021  010400  39021010400    104.0      Census Tract 104  G5020   \n",
       "3      39      085  204302  39085204302  2043.02  Census Tract 2043.02  G5020   \n",
       "4      39      085  206600  39085206600   2066.0     Census Tract 2066  G5020   \n",
       "\n",
       "  funcstat      aland   awater    intptlat     intptlon  \n",
       "0        S  254963980  1528641  40.1538168  -83.9647388  \n",
       "1        S    6985049     4584  40.1121978  -83.7257641  \n",
       "2        S   37288174   128056  40.1384153  -83.7873623  \n",
       "3        S    4108020    11929  41.7124067  -81.2575497  \n",
       "4        S    2637240        0  41.6488658   -81.455889  "
      ]
     },
     "execution_count": 4,
     "metadata": {},
     "output_type": "execute_result"
    }
   ],
   "source": [
    "df2.head()"
   ]
  },
  {
   "cell_type": "code",
   "execution_count": 5,
   "metadata": {
    "collapsed": false
   },
   "outputs": [],
   "source": [
    "df3 = pd.read_csv('nhgis0004_ds201_20135_2013_tract.csv', dtype={'STATEA': object, 'COUNTYA': object, 'TRACTA': object})\n",
    "df3['ID'] = df3.apply(lambda x: x.STATEA + x.COUNTYA + x.TRACTA, axis=1)"
   ]
  },
  {
   "cell_type": "code",
   "execution_count": 6,
   "metadata": {
    "collapsed": false
   },
   "outputs": [],
   "source": [
    "df = pd.merge(df2[['intptlat','intptlon','aland','geoid']], df3[['UEPE001','ID']], left_on='geoid', right_on='ID')\n",
    "df.columns = ['lat','lon','area','tract','pop','tract2']"
   ]
  },
  {
   "cell_type": "code",
   "execution_count": 84,
   "metadata": {
    "collapsed": false
   },
   "outputs": [
    {
     "data": {
      "text/html": [
       "<div style=\"max-height:1000px;max-width:1500px;overflow:auto;\">\n",
       "<table border=\"1\" class=\"dataframe\">\n",
       "  <thead>\n",
       "    <tr style=\"text-align: right;\">\n",
       "      <th></th>\n",
       "      <th>lat</th>\n",
       "      <th>lon</th>\n",
       "      <th>area</th>\n",
       "      <th>tract</th>\n",
       "      <th>pop</th>\n",
       "      <th>tract2</th>\n",
       "    </tr>\n",
       "  </thead>\n",
       "  <tbody>\n",
       "    <tr>\n",
       "      <th>0</th>\n",
       "      <td> 40.1538168</td>\n",
       "      <td> -83.9647388</td>\n",
       "      <td> 254963980</td>\n",
       "      <td> 39021010200</td>\n",
       "      <td> 7174</td>\n",
       "      <td> 39021010200</td>\n",
       "    </tr>\n",
       "    <tr>\n",
       "      <th>1</th>\n",
       "      <td> 40.1121978</td>\n",
       "      <td> -83.7257641</td>\n",
       "      <td>   6985049</td>\n",
       "      <td> 39021010500</td>\n",
       "      <td> 3945</td>\n",
       "      <td> 39021010500</td>\n",
       "    </tr>\n",
       "    <tr>\n",
       "      <th>2</th>\n",
       "      <td> 40.1384153</td>\n",
       "      <td> -83.7873623</td>\n",
       "      <td>  37288174</td>\n",
       "      <td> 39021010400</td>\n",
       "      <td> 4160</td>\n",
       "      <td> 39021010400</td>\n",
       "    </tr>\n",
       "    <tr>\n",
       "      <th>3</th>\n",
       "      <td> 41.7124067</td>\n",
       "      <td> -81.2575497</td>\n",
       "      <td>   4108020</td>\n",
       "      <td> 39085204302</td>\n",
       "      <td> 6727</td>\n",
       "      <td> 39085204302</td>\n",
       "    </tr>\n",
       "    <tr>\n",
       "      <th>4</th>\n",
       "      <td> 41.6488658</td>\n",
       "      <td>  -81.455889</td>\n",
       "      <td>   2637240</td>\n",
       "      <td> 39085206600</td>\n",
       "      <td> 4697</td>\n",
       "      <td> 39085206600</td>\n",
       "    </tr>\n",
       "  </tbody>\n",
       "</table>\n",
       "</div>"
      ],
      "text/plain": [
       "          lat          lon       area        tract   pop       tract2\n",
       "0  40.1538168  -83.9647388  254963980  39021010200  7174  39021010200\n",
       "1  40.1121978  -83.7257641    6985049  39021010500  3945  39021010500\n",
       "2  40.1384153  -83.7873623   37288174  39021010400  4160  39021010400\n",
       "3  41.7124067  -81.2575497    4108020  39085204302  6727  39085204302\n",
       "4  41.6488658   -81.455889    2637240  39085206600  4697  39085206600"
      ]
     },
     "execution_count": 84,
     "metadata": {},
     "output_type": "execute_result"
    }
   ],
   "source": [
    "df.head()"
   ]
  },
  {
   "cell_type": "code",
   "execution_count": 8,
   "metadata": {
    "collapsed": false
   },
   "outputs": [],
   "source": [
    "df.area = df.area.apply(float)\n",
    "df.lat = df.lat.apply(float)\n",
    "df.lon = df.lon.apply(float)\n",
    "df = df[df.area>0]\n",
    "df['density'] = df.apply(lambda x: x['pop']/x['area']/3.86102e-7, axis=1)"
   ]
  },
  {
   "cell_type": "code",
   "execution_count": 9,
   "metadata": {
    "collapsed": true
   },
   "outputs": [],
   "source": [
    "df.to_csv(\"tracts.csv\", index=False)"
   ]
  }
 ],
 "metadata": {
  "kernelspec": {
   "display_name": "Python 2",
   "language": "python",
   "name": "python2"
  },
  "language_info": {
   "codemirror_mode": {
    "name": "ipython",
    "version": 2
   },
   "file_extension": ".py",
   "mimetype": "text/x-python",
   "name": "python",
   "nbconvert_exporter": "python",
   "pygments_lexer": "ipython2",
   "version": "2.7.8"
  }
 },
 "nbformat": 4,
 "nbformat_minor": 0
}
